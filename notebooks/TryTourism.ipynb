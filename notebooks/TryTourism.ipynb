{
 "cells": [
  {
   "cell_type": "markdown",
   "id": "9addcb31",
   "metadata": {},
   "source": [
    "# Tourism"
   ]
  },
  {
   "cell_type": "code",
   "execution_count": 4,
   "id": "3217c2dc",
   "metadata": {},
   "outputs": [
    {
     "ename": "ModuleNotFoundError",
     "evalue": "No module named 'summary'",
     "output_type": "error",
     "traceback": [
      "\u001b[0;31m---------------------------------------------------------------------------\u001b[0m",
      "\u001b[0;31mModuleNotFoundError\u001b[0m                       Traceback (most recent call last)",
      "\u001b[0;32m<ipython-input-4-de19058438ff>\u001b[0m in \u001b[0;36m<module>\u001b[0;34m\u001b[0m\n\u001b[1;32m      1\u001b[0m \u001b[0;32mimport\u001b[0m \u001b[0mpandas\u001b[0m \u001b[0;32mas\u001b[0m \u001b[0mpd\u001b[0m\u001b[0;34m\u001b[0m\u001b[0;34m\u001b[0m\u001b[0m\n\u001b[1;32m      2\u001b[0m \u001b[0;34m\u001b[0m\u001b[0m\n\u001b[0;32m----> 3\u001b[0;31m \u001b[0;32mfrom\u001b[0m \u001b[0msummary\u001b[0m\u001b[0;34m.\u001b[0m\u001b[0mtourism\u001b[0m \u001b[0;32mimport\u001b[0m \u001b[0mTourismSummary\u001b[0m\u001b[0;34m\u001b[0m\u001b[0;34m\u001b[0m\u001b[0m\n\u001b[0m\u001b[1;32m      4\u001b[0m \u001b[0;32mfrom\u001b[0m \u001b[0msummaty\u001b[0m\u001b[0;34m.\u001b[0m\u001b[0mutils\u001b[0m \u001b[0;32mimport\u001b[0m \u001b[0mmedian_ensemble\u001b[0m\u001b[0;34m\u001b[0m\u001b[0;34m\u001b[0m\u001b[0m\n\u001b[1;32m      5\u001b[0m \u001b[0;34m\u001b[0m\u001b[0m\n",
      "\u001b[0;31mModuleNotFoundError\u001b[0m: No module named 'summary'"
     ]
    }
   ],
   "source": [
    "import pandas as pd\n",
    "\n",
    "from summary.tourism import TourismSummary\n",
    "from summaty.utils import median_ensemble\n",
    "\n",
    "summary = TourismSummary()\n",
    "group_tsg = pd.DataFrame(summary.evaluate(median_ensemble('/experiment/storage/experiments/group-tsg')), \n",
    "                        index=['group_tsg'])\n",
    "ensemble = pd.DataFrame(summary.evaluate(median_ensemble('/experiment/storage/experiments/group-tsg*')), \n",
    "                        index=['ensemble'])\n",
    "pd.concate([group_tsg, ensemble])"
   ]
  },
  {
   "cell_type": "markdown",
   "id": "b3bf1e86",
   "metadata": {},
   "source": [
    "# Small ensemble(1 repeat)"
   ]
  },
  {
   "cell_type": "code",
   "execution_count": null,
   "id": "8b5042f3",
   "metadata": {},
   "outputs": [],
   "source": [
    "summary = TourismSummary()\n",
    "group_tsg = pd.DataFrame(summary.evaluate(median_ensemble('/experiment/storage/experiments/group-tsg', \n",
    "                                                         summary_filter='repeat=0*')), \n",
    "                        index=['group_tsg'])\n",
    "ensemble = pd.DataFrame(summary.evaluate(median_ensemble('/experiment/storage/experiments/group-tsg_*',\n",
    "                                                        summary_filter='repeat=0*')), \n",
    "                        index=['ensemble'])\n",
    "pd.concat([group_tsg, ensemble])\n"
   ]
  }
 ],
 "metadata": {
  "kernelspec": {
   "display_name": "Python 3",
   "language": "python",
   "name": "python3"
  },
  "language_info": {
   "codemirror_mode": {
    "name": "ipython",
    "version": 3
   },
   "file_extension": ".py",
   "mimetype": "text/x-python",
   "name": "python",
   "nbconvert_exporter": "python",
   "pygments_lexer": "ipython3",
   "version": "3.7.10"
  }
 },
 "nbformat": 4,
 "nbformat_minor": 5
}
