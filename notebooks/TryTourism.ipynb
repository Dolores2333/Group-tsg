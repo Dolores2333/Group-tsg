{
 "cells": [
  {
   "cell_type": "markdown",
   "id": "9addcb31",
   "metadata": {},
   "source": [
    "# Tourism"
   ]
  },
  {
   "cell_type": "code",
   "execution_count": 1,
   "id": "3217c2dc",
   "metadata": {},
   "outputs": [
    {
     "name": "stderr",
     "output_type": "stream",
     "text": [
      "/experiment/datasets/tourism.py:117: VisibleDeprecationWarning: Creating an ndarray from ragged nested sequences (which is a list-or-tuple of lists-or-tuples-or ndarrays with different lengths or shapes) is deprecated. If you meant to do this, you must specify 'dtype=object' when creating the ndarray.\n",
      "  values=np.array(values))\n",
      "100%|██████████| 60/60 [00:00<00:00, 111.14it/s]\n",
      "100%|██████████| 60/60 [00:00<00:00, 117.08it/s]\n",
      "100%|██████████| 60/60 [00:00<00:00, 134.92it/s]\n",
      "100%|██████████| 120/120 [00:00<00:00, 167.86it/s]\n"
     ]
    },
    {
     "data": {
      "text/html": [
       "<div>\n",
       "<style scoped>\n",
       "    .dataframe tbody tr th:only-of-type {\n",
       "        vertical-align: middle;\n",
       "    }\n",
       "\n",
       "    .dataframe tbody tr th {\n",
       "        vertical-align: top;\n",
       "    }\n",
       "\n",
       "    .dataframe thead th {\n",
       "        text-align: right;\n",
       "    }\n",
       "</style>\n",
       "<table border=\"1\" class=\"dataframe\">\n",
       "  <thead>\n",
       "    <tr style=\"text-align: right;\">\n",
       "      <th></th>\n",
       "      <th>Yearly</th>\n",
       "      <th>Quarterly</th>\n",
       "      <th>Monthly</th>\n",
       "      <th>Average</th>\n",
       "    </tr>\n",
       "  </thead>\n",
       "  <tbody>\n",
       "    <tr>\n",
       "      <th>group_tsg</th>\n",
       "      <td>23.05</td>\n",
       "      <td>14.80</td>\n",
       "      <td>19.54</td>\n",
       "      <td>18.91</td>\n",
       "    </tr>\n",
       "    <tr>\n",
       "      <th>interpretable</th>\n",
       "      <td>21.24</td>\n",
       "      <td>15.36</td>\n",
       "      <td>19.97</td>\n",
       "      <td>19.05</td>\n",
       "    </tr>\n",
       "    <tr>\n",
       "      <th>generic</th>\n",
       "      <td>21.48</td>\n",
       "      <td>14.90</td>\n",
       "      <td>19.44</td>\n",
       "      <td>18.65</td>\n",
       "    </tr>\n",
       "    <tr>\n",
       "      <th>ensemble</th>\n",
       "      <td>21.33</td>\n",
       "      <td>14.99</td>\n",
       "      <td>19.46</td>\n",
       "      <td>18.67</td>\n",
       "    </tr>\n",
       "  </tbody>\n",
       "</table>\n",
       "</div>"
      ],
      "text/plain": [
       "               Yearly  Quarterly  Monthly  Average\n",
       "group_tsg       23.05      14.80    19.54    18.91\n",
       "interpretable   21.24      15.36    19.97    19.05\n",
       "generic         21.48      14.90    19.44    18.65\n",
       "ensemble        21.33      14.99    19.46    18.67"
      ]
     },
     "execution_count": 1,
     "metadata": {},
     "output_type": "execute_result"
    }
   ],
   "source": [
    "import pandas as pd\n",
    "\n",
    "from summary.tourism import TourismSummary\n",
    "from summary.utils import median_ensemble\n",
    "\n",
    "summary = TourismSummary()\n",
    "group_tsg = pd.DataFrame(summary.evaluate(median_ensemble('/experiment/storage/experiments/group-tsg')), \n",
    "                        index=['group_tsg'])\n",
    "interpretable = pd.DataFrame(summary.evaluate(median_ensemble('/experiment/storage/experiments/tourism_interpretable')), \n",
    "                             index=['interpretable'])\n",
    "generic = pd.DataFrame(summary.evaluate(median_ensemble('/experiment/storage/experiments/tourism_generic')), \n",
    "                       index=['generic'])\n",
    "\n",
    "ensemble = pd.DataFrame(summary.evaluate(median_ensemble('/experiment/storage/experiments/tourism_*')), \n",
    "                        index=['ensemble'])\n",
    "\n",
    "pd.concat([group_tsg, interpretable, generic, ensemble])"
   ]
  },
  {
   "cell_type": "markdown",
   "id": "b3bf1e86",
   "metadata": {},
   "source": [
    "# Small ensemble(1 repeat)"
   ]
  },
  {
   "cell_type": "code",
   "execution_count": 2,
   "id": "8b5042f3",
   "metadata": {},
   "outputs": [
    {
     "name": "stderr",
     "output_type": "stream",
     "text": [
      "/experiment/datasets/tourism.py:117: VisibleDeprecationWarning: Creating an ndarray from ragged nested sequences (which is a list-or-tuple of lists-or-tuples-or ndarrays with different lengths or shapes) is deprecated. If you meant to do this, you must specify 'dtype=object' when creating the ndarray.\n",
      "  values=np.array(values))\n",
      "100%|██████████| 6/6 [00:00<00:00, 168.39it/s]\n",
      "100%|██████████| 6/6 [00:00<00:00, 109.26it/s]\n",
      "100%|██████████| 6/6 [00:00<00:00, 167.57it/s]\n",
      "100%|██████████| 12/12 [00:00<00:00, 173.41it/s]\n"
     ]
    },
    {
     "data": {
      "text/html": [
       "<div>\n",
       "<style scoped>\n",
       "    .dataframe tbody tr th:only-of-type {\n",
       "        vertical-align: middle;\n",
       "    }\n",
       "\n",
       "    .dataframe tbody tr th {\n",
       "        vertical-align: top;\n",
       "    }\n",
       "\n",
       "    .dataframe thead th {\n",
       "        text-align: right;\n",
       "    }\n",
       "</style>\n",
       "<table border=\"1\" class=\"dataframe\">\n",
       "  <thead>\n",
       "    <tr style=\"text-align: right;\">\n",
       "      <th></th>\n",
       "      <th>Yearly</th>\n",
       "      <th>Quarterly</th>\n",
       "      <th>Monthly</th>\n",
       "      <th>Average</th>\n",
       "    </tr>\n",
       "  </thead>\n",
       "  <tbody>\n",
       "    <tr>\n",
       "      <th>group_tsg</th>\n",
       "      <td>23.19</td>\n",
       "      <td>14.72</td>\n",
       "      <td>19.59</td>\n",
       "      <td>18.95</td>\n",
       "    </tr>\n",
       "    <tr>\n",
       "      <th>interpretable</th>\n",
       "      <td>21.22</td>\n",
       "      <td>15.53</td>\n",
       "      <td>20.28</td>\n",
       "      <td>19.28</td>\n",
       "    </tr>\n",
       "    <tr>\n",
       "      <th>generic</th>\n",
       "      <td>21.44</td>\n",
       "      <td>15.12</td>\n",
       "      <td>19.77</td>\n",
       "      <td>18.90</td>\n",
       "    </tr>\n",
       "    <tr>\n",
       "      <th>ensemble</th>\n",
       "      <td>21.27</td>\n",
       "      <td>15.11</td>\n",
       "      <td>19.60</td>\n",
       "      <td>18.77</td>\n",
       "    </tr>\n",
       "  </tbody>\n",
       "</table>\n",
       "</div>"
      ],
      "text/plain": [
       "               Yearly  Quarterly  Monthly  Average\n",
       "group_tsg       23.19      14.72    19.59    18.95\n",
       "interpretable   21.22      15.53    20.28    19.28\n",
       "generic         21.44      15.12    19.77    18.90\n",
       "ensemble        21.27      15.11    19.60    18.77"
      ]
     },
     "execution_count": 2,
     "metadata": {},
     "output_type": "execute_result"
    }
   ],
   "source": [
    "summary = TourismSummary()\n",
    "group_tsg = pd.DataFrame(summary.evaluate(median_ensemble('/experiment/storage/experiments/group-tsg', \n",
    "                                                         summary_filter='repeat=0*')), \n",
    "                        index=['group_tsg'])\n",
    "interpretable = pd.DataFrame(summary.evaluate(median_ensemble('/experiment/storage/experiments/tourism_interpretable',\n",
    "                                                             summary_filter='repeat=0*')), index=['interpretable'])\n",
    "\n",
    "generic = pd.DataFrame(summary.evaluate(median_ensemble('/experiment/storage/experiments/tourism_generic',\n",
    "                                                             summary_filter='repeat=0*')), index=['generic'])\n",
    "\n",
    "\n",
    "ensemble = pd.DataFrame(summary.evaluate(median_ensemble('/experiment/storage/experiments/tourism_*',\n",
    "                                                        summary_filter='repeat=0*')), \n",
    "                        index=['ensemble'])\n",
    "\n",
    "pd.concat([group_tsg, interpretable, generic, ensemble])"
   ]
  },
  {
   "cell_type": "code",
   "execution_count": 3,
   "id": "d1dd6619-5e13-4638-b3e1-8ad62abb7686",
   "metadata": {},
   "outputs": [
    {
     "name": "stderr",
     "output_type": "stream",
     "text": [
      "/experiment/datasets/tourism.py:117: VisibleDeprecationWarning: Creating an ndarray from ragged nested sequences (which is a list-or-tuple of lists-or-tuples-or ndarrays with different lengths or shapes) is deprecated. If you meant to do this, you must specify 'dtype=object' when creating the ndarray.\n",
      "  values=np.array(values))\n",
      "100%|██████████| 6/6 [00:00<00:00, 182.49it/s]\n",
      "100%|██████████| 6/6 [00:00<00:00, 165.40it/s]\n",
      "100%|██████████| 6/6 [00:00<00:00, 173.12it/s]\n",
      "100%|██████████| 12/12 [00:00<00:00, 174.73it/s]\n"
     ]
    },
    {
     "data": {
      "text/html": [
       "<div>\n",
       "<style scoped>\n",
       "    .dataframe tbody tr th:only-of-type {\n",
       "        vertical-align: middle;\n",
       "    }\n",
       "\n",
       "    .dataframe tbody tr th {\n",
       "        vertical-align: top;\n",
       "    }\n",
       "\n",
       "    .dataframe thead th {\n",
       "        text-align: right;\n",
       "    }\n",
       "</style>\n",
       "<table border=\"1\" class=\"dataframe\">\n",
       "  <thead>\n",
       "    <tr style=\"text-align: right;\">\n",
       "      <th></th>\n",
       "      <th>Yearly</th>\n",
       "      <th>Quarterly</th>\n",
       "      <th>Monthly</th>\n",
       "      <th>Average</th>\n",
       "    </tr>\n",
       "  </thead>\n",
       "  <tbody>\n",
       "    <tr>\n",
       "      <th>group_tsg</th>\n",
       "      <td>22.89</td>\n",
       "      <td>14.87</td>\n",
       "      <td>19.47</td>\n",
       "      <td>18.87</td>\n",
       "    </tr>\n",
       "    <tr>\n",
       "      <th>interpretable</th>\n",
       "      <td>21.52</td>\n",
       "      <td>15.39</td>\n",
       "      <td>20.64</td>\n",
       "      <td>19.51</td>\n",
       "    </tr>\n",
       "    <tr>\n",
       "      <th>generic</th>\n",
       "      <td>21.40</td>\n",
       "      <td>14.93</td>\n",
       "      <td>19.52</td>\n",
       "      <td>18.70</td>\n",
       "    </tr>\n",
       "    <tr>\n",
       "      <th>ensemble</th>\n",
       "      <td>21.42</td>\n",
       "      <td>14.97</td>\n",
       "      <td>19.75</td>\n",
       "      <td>18.85</td>\n",
       "    </tr>\n",
       "  </tbody>\n",
       "</table>\n",
       "</div>"
      ],
      "text/plain": [
       "               Yearly  Quarterly  Monthly  Average\n",
       "group_tsg       22.89      14.87    19.47    18.87\n",
       "interpretable   21.52      15.39    20.64    19.51\n",
       "generic         21.40      14.93    19.52    18.70\n",
       "ensemble        21.42      14.97    19.75    18.85"
      ]
     },
     "execution_count": 3,
     "metadata": {},
     "output_type": "execute_result"
    }
   ],
   "source": [
    "summary = TourismSummary()\n",
    "group_tsg = pd.DataFrame(summary.evaluate(median_ensemble('/experiment/storage/experiments/group-tsg', \n",
    "                                                         summary_filter='repeat=9*')), \n",
    "                        index=['group_tsg'])\n",
    "interpretable = pd.DataFrame(summary.evaluate(median_ensemble('/experiment/storage/experiments/tourism_interpretable',\n",
    "                                                             summary_filter='repeat=9*')), index=['interpretable'])\n",
    "\n",
    "generic = pd.DataFrame(summary.evaluate(median_ensemble('/experiment/storage/experiments/tourism_generic',\n",
    "                                                             summary_filter='repeat=9*')), index=['generic'])\n",
    "\n",
    "\n",
    "ensemble = pd.DataFrame(summary.evaluate(median_ensemble('/experiment/storage/experiments/tourism_*',\n",
    "                                                        summary_filter='repeat=9*')), \n",
    "                        index=['ensemble'])\n",
    "\n",
    "pd.concat([group_tsg, interpretable, generic, ensemble])"
   ]
  },
  {
   "cell_type": "code",
   "execution_count": null,
   "id": "84af46a3-5e66-443e-971b-d4b1ca68e148",
   "metadata": {},
   "outputs": [],
   "source": []
  }
 ],
 "metadata": {
  "kernelspec": {
   "display_name": "Python 3",
   "language": "python",
   "name": "python3"
  },
  "language_info": {
   "codemirror_mode": {
    "name": "ipython",
    "version": 3
   },
   "file_extension": ".py",
   "mimetype": "text/x-python",
   "name": "python",
   "nbconvert_exporter": "python",
   "pygments_lexer": "ipython3",
   "version": "3.7.2"
  }
 },
 "nbformat": 4,
 "nbformat_minor": 5
}
